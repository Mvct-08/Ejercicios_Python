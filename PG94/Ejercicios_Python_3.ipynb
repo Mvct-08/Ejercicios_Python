{
  "nbformat": 4,
  "nbformat_minor": 0,
  "metadata": {
    "colab": {
      "provenance": [],
      "authorship_tag": "ABX9TyM1QdDIrYm2ljjbDqLa1wCp",
      "include_colab_link": true
    },
    "kernelspec": {
      "name": "python3",
      "display_name": "Python 3"
    },
    "language_info": {
      "name": "python"
    }
  },
  "cells": [
    {
      "cell_type": "markdown",
      "metadata": {
        "id": "view-in-github",
        "colab_type": "text"
      },
      "source": [
        "<a href=\"https://colab.research.google.com/github/Mvct-08/Ejercicios_Python/blob/main/PG94/Ejercicios_Python_3.ipynb\" target=\"_parent\"><img src=\"https://colab.research.google.com/assets/colab-badge.svg\" alt=\"Open In Colab\"/></a>"
      ]
    },
    {
      "cell_type": "markdown",
      "source": [
        "## Resolución de problemas usando python\n",
        "### Libro: Python programación: ESPOL\n",
        "### Autor: Luis Rodriguez Ojeda"
      ],
      "metadata": {
        "id": "EmZwJwO7nOui"
      }
    },
    {
      "cell_type": "markdown",
      "source": [
        "## (5.8.5)  pg 94\n",
        "\n",
        "## Ejercicios de programacion con desiciones\n",
        "\n",
        "Para cada ejercicios, escriba y pruebe un programa."
      ],
      "metadata": {
        "id": "2L6iK__RnsYR"
      }
    },
    {
      "cell_type": "markdown",
      "source": [
        "2) Dado el radio y la altura de un cilindro, si la altura es mayor que el radio calcule y muestre el valor del volumen, en caso contrario muestre un mensaje de error"
      ],
      "metadata": {
        "id": "cic7Ec-Mr38_"
      }
    },
    {
      "cell_type": "code",
      "source": [
        "altura = float(input(\"Ingrese la altura del cilindro: \"))\n",
        "radio = float(input(\"Ingrese el radio del cilindro: \"))\n",
        "PI = 3.1415\n",
        "\n",
        "if altura > radio:\n",
        "  volumen = PI*radio**2*altura\n",
        "  print(\"El volumen del cilindro es: \", volumen)\n",
        "else:\n",
        "  print(\"Error: debe indicar una altura mayor que el radio\")"
      ],
      "metadata": {
        "id": "g9JPZwm2zHjW",
        "colab": {
          "base_uri": "https://localhost:8080/"
        },
        "outputId": "7db752d8-0e5b-4de1-e681-031fd010fefc"
      },
      "execution_count": null,
      "outputs": [
        {
          "output_type": "stream",
          "name": "stdout",
          "text": [
            "Ingrese la altura del cilindro: 7\n",
            "Ingrese el radio del cilindro: 5\n",
            "El volumen del cilindro es:  549.7625\n"
          ]
        }
      ]
    },
    {
      "cell_type": "markdown",
      "source": [
        "3) Dadas las dimensiones de un bloque rectangular, calcule las diagonales de las tres caras diferentes. Muestra el valor de la mayor diagonal"
      ],
      "metadata": {
        "id": "KyIdXUr3qlCG"
      }
    },
    {
      "cell_type": "code",
      "source": [
        "from os.path import dirname  #debes estudiar mas de que se trata este modulo\n",
        "largo = float(input(\"Ingrese el largo del bloque: \"))\n",
        "ancho = float(input(\"Ingrese el ancho del bloque: \"))\n",
        "alto = float(input(\"Ingrese el alto del bloque: \"))\n",
        "\n",
        "diagonal1 = (largo**2 + ancho**2)**0.5\n",
        "diagonal2 = (largo**2 + alto**2)**0.5\n",
        "diagonal3 = (ancho**2 + alto**2)**0.5\n",
        "\n",
        "if diagonal1 >= diagonal2 and diagonal1 >= diagonal3:\n",
        "  print(\"La mayor diagonal es: \", round(diagonal1,2))\n",
        "elif diagonal2 >= diagonal1 and diagonal2 >= diagonal3:\n",
        "  print(\"La mayor diagonal es: \", round(diagonal2,2))\n",
        "else:\n",
        "  print(\"La mayor diagonal es: \", round(diagonal3, 2))\n",
        "\n"
      ],
      "metadata": {
        "id": "jOgySS0GqjRp",
        "colab": {
          "base_uri": "https://localhost:8080/"
        },
        "outputId": "7d12c416-adc8-4fe7-9c27-a9230b10a042"
      },
      "execution_count": null,
      "outputs": [
        {
          "output_type": "stream",
          "name": "stdout",
          "text": [
            "Ingrese el largo del bloque: 5\n",
            "Ingrese el ancho del bloque: 4\n",
            "Ingrese el alto del bloque: 9\n",
            "La mayor diagonal es:  10.3\n"
          ]
        }
      ]
    },
    {
      "cell_type": "markdown",
      "source": [
        "3) Lea un numero de dos cifras. Determine si la suma de ambos dígitos es un numero par o impar. Muestre el mensaje."
      ],
      "metadata": {
        "id": "pPhkE7Ogxawr"
      }
    },
    {
      "cell_type": "code",
      "source": [
        "\n",
        "\n",
        "\n",
        "\n"
      ],
      "metadata": {
        "id": "I3VTMBEOXuB5",
        "colab": {
          "base_uri": "https://localhost:8080/"
        },
        "outputId": "c0013fba-62ef-4846-e291-26603522ab1a"
      },
      "execution_count": null,
      "outputs": [
        {
          "output_type": "stream",
          "name": "stdout",
          "text": [
            "Ingrese un numero de tres cifras: 117\n",
            "Ingrese otro numero de tres cifras: 192\n",
            "La suma de las cifras centrales es:  10\n"
          ]
        }
      ]
    },
    {
      "cell_type": "markdown",
      "source": [
        "4) Dado un numero de tres cifras, muestre el mismo numero pero en orden inverso"
      ],
      "metadata": {
        "id": "xf-6PuhdFrrz"
      }
    },
    {
      "cell_type": "code",
      "source": [
        "\n",
        "\n"
      ],
      "metadata": {
        "id": "9N3R0SSLxaHn",
        "colab": {
          "base_uri": "https://localhost:8080/"
        },
        "outputId": "cecff544-45a0-4975-d80b-6095aac803f8"
      },
      "execution_count": null,
      "outputs": [
        {
          "output_type": "stream",
          "name": "stdout",
          "text": [
            "Ingrese un numero de tres cifras: 918\n",
            "Numero invertido:  8 1 9\n"
          ]
        }
      ]
    },
    {
      "cell_type": "markdown",
      "source": [
        "6) Dado un entero (cantidad de dolares) mostrar el equivalente usando la menor cantdad de billetes de: **100, 50, 10, 5 , 1**\n",
        "\n",
        "---\n",
        "**EJERCICIO EN REVISION YA QUE SE REALIZO PARA TRES CIFRAS, SOLO SE CONSIDERO BILLETES DE 100 10 Y DE 1**"
      ],
      "metadata": {
        "id": "RIDbzxF6HY24"
      }
    },
    {
      "cell_type": "code",
      "source": [
        "\n"
      ],
      "metadata": {
        "colab": {
          "base_uri": "https://localhost:8080/"
        },
        "id": "C2nlz4xsH5o9",
        "outputId": "1e6770b0-e29f-485d-e156-0b06c7f80368"
      },
      "execution_count": null,
      "outputs": [
        {
          "output_type": "stream",
          "name": "stdout",
          "text": [
            "Ingrese la cantidad de dolares: 643\n",
            "se necesitan 6 billetes de 100 \n",
            "se necesitan 4 billetes de 10 \n",
            "se necesitan 3 billetes de 1 \n"
          ]
        }
      ]
    },
    {
      "cell_type": "markdown",
      "source": [
        "  6) La fórmula para determinar el dia $n$ en el cual el numero de  bacteria $x$, cuya cantidad duplica cada dia, excede a un valor maximo $m$ viene dada por: $2^n\\cdot x > m$.\n",
        "\n",
        "  Ingrese los valores de $x, m$ y determine el dia $n$ con la formula anterior. Este resultado debe ser el menor entero que satisface la desigualdad."
      ],
      "metadata": {
        "id": "ntJWnEyAKqSf"
      }
    }
  ]
}