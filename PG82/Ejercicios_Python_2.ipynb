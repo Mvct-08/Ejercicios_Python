{
  "nbformat": 4,
  "nbformat_minor": 0,
  "metadata": {
    "colab": {
      "provenance": [],
      "authorship_tag": "ABX9TyP6INCp4gzsSDt75IgmxojQ",
      "include_colab_link": true
    },
    "kernelspec": {
      "name": "python3",
      "display_name": "Python 3"
    },
    "language_info": {
      "name": "python"
    }
  },
  "cells": [
    {
      "cell_type": "markdown",
      "metadata": {
        "id": "view-in-github",
        "colab_type": "text"
      },
      "source": [
        "<a href=\"https://colab.research.google.com/github/Mvct-08/Ejercicios_Python/blob/main/PG82/Ejercicios_Python_2.ipynb\" target=\"_parent\"><img src=\"https://colab.research.google.com/assets/colab-badge.svg\" alt=\"Open In Colab\"/></a>"
      ]
    },
    {
      "cell_type": "markdown",
      "source": [
        "## Resolución de problemas usando python\n",
        "### Libro: Python programación: ESPOL\n",
        "### Autor: Luis Rodriguez Ojeda"
      ],
      "metadata": {
        "id": "EmZwJwO7nOui"
      }
    },
    {
      "cell_type": "markdown",
      "source": [
        "## (5.7.10)  pg 82\n",
        "\n",
        "## Ejercicios de programacion con los operadores de la aritmetica entera\n",
        "\n",
        "Para cada ejercicios, escriba y pruebe un programa."
      ],
      "metadata": {
        "id": "2L6iK__RnsYR"
      }
    },
    {
      "cell_type": "markdown",
      "source": [
        "1) Dado un numero en entero (días),  determine y muestre el equivalente en años, meses, y dias sobrantes. Por simplicidad suponga que un año tiene 365 dias y que cada mes tiene 30 dias. Use los operadores // y % para obtener cociente y residuo."
      ],
      "metadata": {
        "id": "cic7Ec-Mr38_"
      }
    },
    {
      "cell_type": "code",
      "execution_count": null,
      "metadata": {
        "id": "ivv-katPmYtK",
        "colab": {
          "base_uri": "https://localhost:8080/"
        },
        "outputId": "913b8083-10d3-4af3-feee-1c9ad090ad8a"
      },
      "outputs": [
        {
          "output_type": "stream",
          "name": "stdout",
          "text": [
            "Ingrese la cantidad de dias: 1580\n",
            "Anios:  4\n",
            "Meses:  4\n",
            "Dias:  0\n"
          ]
        }
      ],
      "source": [
        "dias = int(input(\"Ingrese la cantidad de dias: \"))\n",
        "\n",
        "anios, dias = divmod(dias, 365)\n",
        "meses, dias = divmod(dias, 30)\n",
        "\n",
        "print(\"Anios: \", anios)\n",
        "print(\"Meses: \", meses)\n",
        "print(\"Dias: \", dias)"
      ]
    },
    {
      "cell_type": "markdown",
      "source": [
        "2) Dado un numero en entero (días), encuentre el equivalente en meses, semanas y dias sobrantes. Por simplicidad suponga que un año tiene 365 dias y que cada mes tiene 30 dias. Use los operadores // y % para obtener cociente y residuo."
      ],
      "metadata": {
        "id": "KyIdXUr3qlCG"
      }
    },
    {
      "cell_type": "code",
      "source": [
        "dias = int(input(\"Ingrese la cantidad de dias: \"))\n",
        "\n",
        "meses, dias = divmod(dias, 30)\n",
        "semanas, dias = divmod(dias, 7)\n",
        "\n",
        "print(\"Meses: \", meses)\n",
        "print(\"Semanas: \", semanas)\n",
        "print(\"Dias: \", dias)"
      ],
      "metadata": {
        "colab": {
          "base_uri": "https://localhost:8080/"
        },
        "id": "jOgySS0GqjRp",
        "outputId": "ca2b4efa-2389-41c7-db34-914dc265944f"
      },
      "execution_count": null,
      "outputs": [
        {
          "output_type": "stream",
          "name": "stdout",
          "text": [
            "Ingrese la cantidad de dias: 175\n",
            "Meses:  5\n",
            "Semanas:  3\n",
            "Dias:  4\n"
          ]
        }
      ]
    },
    {
      "cell_type": "markdown",
      "source": [
        "3) Lea dos numeros de tres cifras cada uno. Sume la cifra central del primer número con la cifra central del segundo número y muestre el resultado"
      ],
      "metadata": {
        "id": "pPhkE7Ogxawr"
      }
    },
    {
      "cell_type": "code",
      "source": [
        "num1_tres_cifras = int(input(\"Ingrese un numero de tres cifras: \"))\n",
        "num2_tres_cifras = int(input(\"Ingrese otro numero de tres cifras: \"))\n",
        "\n",
        "div1 = num1_tres_cifras // 10\n",
        "div2 = num2_tres_cifras // 10\n",
        "\n",
        "central1 = div1 % 10\n",
        "central2 =  div2 % 10\n",
        "\n",
        "suma = central1 + central2\n",
        "\n",
        "print(\"La suma de las cifras centrales es: \", suma)\n",
        "\n",
        "\n",
        "\n"
      ],
      "metadata": {
        "id": "I3VTMBEOXuB5",
        "colab": {
          "base_uri": "https://localhost:8080/"
        },
        "outputId": "c0013fba-62ef-4846-e291-26603522ab1a"
      },
      "execution_count": null,
      "outputs": [
        {
          "output_type": "stream",
          "name": "stdout",
          "text": [
            "Ingrese un numero de tres cifras: 117\n",
            "Ingrese otro numero de tres cifras: 192\n",
            "La suma de las cifras centrales es:  10\n"
          ]
        }
      ]
    },
    {
      "cell_type": "markdown",
      "source": [
        "4) Dado un numero de tres cifras, muestre el mismo numero pero en orden inverso"
      ],
      "metadata": {
        "id": "xf-6PuhdFrrz"
      }
    },
    {
      "cell_type": "code",
      "source": [
        "num_tres_cifras = int(input(\"Ingrese un numero de tres cifras: \"))\n",
        "\n",
        "prim_cifra, resto1 = divmod(num_tres_cifras, 100)\n",
        "seg_cifra, ter_cifra = divmod(resto1, 10)\n",
        "\n",
        "print(\"Numero invertido: \", ter_cifra, seg_cifra, prim_cifra)\n",
        "\n"
      ],
      "metadata": {
        "id": "9N3R0SSLxaHn",
        "colab": {
          "base_uri": "https://localhost:8080/"
        },
        "outputId": "cecff544-45a0-4975-d80b-6095aac803f8"
      },
      "execution_count": null,
      "outputs": [
        {
          "output_type": "stream",
          "name": "stdout",
          "text": [
            "Ingrese un numero de tres cifras: 918\n",
            "Numero invertido:  8 1 9\n"
          ]
        }
      ]
    },
    {
      "cell_type": "markdown",
      "source": [
        "6) Dado un entero (cantidad de dolares) mostrar el equivalente usando la menor cantdad de billetes de: **100, 50, 10, 5 , 1**\n",
        "\n",
        "---\n",
        "**EJERCICIO EN REVISION YA QUE SE REALIZO PARA TRES CIFRAS, SOLO SE CONSIDERO BILLETES DE 100 10 Y DE 1**"
      ],
      "metadata": {
        "id": "RIDbzxF6HY24"
      }
    },
    {
      "cell_type": "code",
      "source": [
        "cantidad_dolares = int(input(\"Ingrese la cantidad de dolares: \"))\n",
        "\n",
        "prim_cifra, resto1 = divmod(cantidad_dolares, 100)\n",
        "seg_cifra, ter_cifra = divmod(resto1, 10)\n",
        "\n",
        "print(f\"se necesitan {prim_cifra} billetes de 100 \")\n",
        "print(f\"se necesitan {seg_cifra} billetes de 10 \")\n",
        "print(f\"se necesitan {ter_cifra} billetes de 1 \")\n"
      ],
      "metadata": {
        "colab": {
          "base_uri": "https://localhost:8080/"
        },
        "id": "C2nlz4xsH5o9",
        "outputId": "1e6770b0-e29f-485d-e156-0b06c7f80368"
      },
      "execution_count": null,
      "outputs": [
        {
          "output_type": "stream",
          "name": "stdout",
          "text": [
            "Ingrese la cantidad de dolares: 643\n",
            "se necesitan 6 billetes de 100 \n",
            "se necesitan 4 billetes de 10 \n",
            "se necesitan 3 billetes de 1 \n"
          ]
        }
      ]
    },
    {
      "cell_type": "markdown",
      "source": [
        "  6) La fórmula para determinar el dia $n$ en el cual el numero de  bacteria $x$, cuya cantidad duplica cada dia, excede a un valor maximo $m$ viene dada por: $2^n\\cdot x > m$.\n",
        "\n",
        "  Ingrese los valores de $x, m$ y determine el dia $n$ con la formula anterior. Este resultado debe ser el menor entero que satisface la desigualdad."
      ],
      "metadata": {
        "id": "ntJWnEyAKqSf"
      }
    },
    {
      "cell_type": "code",
      "source": [
        "from math import log2\n",
        "\n",
        "x = int(input(\"Ingrese la cantidad de bacterias: \"))\n",
        "m = int(input(\"Ingrese el valor maximo: \"))\n",
        "\n",
        "n = int(log2(m/x))\n",
        "\n",
        "print(f\"En el dia: {n+1} la cantidad de bacteria excede al valor {m}\")\n",
        "\n"
      ],
      "metadata": {
        "colab": {
          "base_uri": "https://localhost:8080/"
        },
        "id": "uuRuS9s7MR8C",
        "outputId": "67c9d697-c9c9-42ea-acdb-c74c3565579e"
      },
      "execution_count": null,
      "outputs": [
        {
          "output_type": "stream",
          "name": "stdout",
          "text": [
            "Ingrese la cantidad de bacterias: 1\n",
            "Ingrese el valor maximo: 9\n",
            "En el dia: 4 la cantidad de bacteria excede al valor 9\n"
          ]
        }
      ]
    }
  ]
}