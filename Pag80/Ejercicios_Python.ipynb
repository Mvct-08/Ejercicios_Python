{
  "nbformat": 4,
  "nbformat_minor": 0,
  "metadata": {
    "colab": {
      "provenance": [],
      "authorship_tag": "ABX9TyPtgzVh9/ObPzGuZnNMwdDo",
      "include_colab_link": true
    },
    "kernelspec": {
      "name": "python3",
      "display_name": "Python 3"
    },
    "language_info": {
      "name": "python"
    }
  },
  "cells": [
    {
      "cell_type": "markdown",
      "metadata": {
        "id": "view-in-github",
        "colab_type": "text"
      },
      "source": [
        "<a href=\"https://colab.research.google.com/github/Mvct-08/Ejercicios_Python/blob/main/Pag80/Ejercicios_Python.ipynb\" target=\"_parent\"><img src=\"https://colab.research.google.com/assets/colab-badge.svg\" alt=\"Open In Colab\"/></a>"
      ]
    },
    {
      "cell_type": "markdown",
      "source": [
        "#Resolución de problemas usando python\n",
        "\n",
        "##Libro: Python programación: ESPOL\n",
        "### Autor: Luis Rodriguez Ojeda"
      ],
      "metadata": {
        "id": "EmZwJwO7nOui"
      }
    },
    {
      "cell_type": "markdown",
      "source": [
        "## (5.7.8)  pg 80\n",
        "\n",
        "1) Dados el radio y la altura de un cilindro, calcule el area total y el volumen\n",
        "\n",
        "\n",
        "---\n",
        "$V = \\pi·r^2⋅h$\n",
        "\n",
        "$A = 2⋅\\pi⋅r^2 + 2⋅\\pi⋅r·h$\n"
      ],
      "metadata": {
        "id": "2L6iK__RnsYR"
      }
    },
    {
      "cell_type": "code",
      "execution_count": null,
      "metadata": {
        "id": "ivv-katPmYtK",
        "colab": {
          "base_uri": "https://localhost:8080/"
        },
        "outputId": "b941bb21-4f27-4c1a-fe96-73c24974db90"
      },
      "outputs": [
        {
          "output_type": "stream",
          "name": "stdout",
          "text": [
            "ingrese el radio: 4\n",
            "ingrese la altura: 5\n",
            "el volumen es:  251.33\n",
            "el area es:  226.2\n"
          ]
        }
      ],
      "source": [
        "radio = float(input(\"ingrese el radio: \"))\n",
        "altura = float(input(\"ingrese la altura: \"))\n",
        "\n",
        "volumen = 3.1416 * radio**2 * altura\n",
        "area= 2 * 3.1416 * radio**2 + 2 * 3.1416 * radio * altura\n",
        "\n",
        "print(\"el volumen es: \", round(volumen, 2))\n",
        "print(\"el area es: \", round(area, 2))"
      ]
    },
    {
      "cell_type": "markdown",
      "source": [
        "2) Se tiene un recipiente cilindrico con capacidad en litros. Su altura es dada en metros. Determine el diamentro de la base\n",
        "\n",
        "---\n",
        "$ r = \\sqrt{\\frac{v}{\\pi⋅h}} $"
      ],
      "metadata": {
        "id": "KyIdXUr3qlCG"
      }
    },
    {
      "cell_type": "code",
      "source": [
        "altura = float(input(\"ingrese la altura: \"))\n",
        "volumen = float(input(\"ingrese el volumen: \"))\n",
        "\n",
        "radio = (volumen / (3.1416 * altura))**0.5\n",
        "diametro = 2 * radio\n",
        "\n",
        "print(\"el diametro es: \", round(diametro, 2))"
      ],
      "metadata": {
        "colab": {
          "base_uri": "https://localhost:8080/"
        },
        "id": "jOgySS0GqjRp",
        "outputId": "f6ffe3d9-ea36-4341-c639-3ee0c1ad6a03"
      },
      "execution_count": null,
      "outputs": [
        {
          "output_type": "stream",
          "name": "stdout",
          "text": [
            "ingrese la altura: 8\n",
            "ingrese el volumen: 20\n",
            "el diametro es:  1.78\n"
          ]
        }
      ]
    },
    {
      "cell_type": "markdown",
      "source": [
        "3) Dadas las tres dimensiones de un bloque rectangular calcule y muestre el area total y el volumen\n",
        "\n",
        "---\n",
        "$V = alto ⋅ largo ⋅ ancho$\n",
        "\n",
        "$A = 2⋅alto\\cdot largo + 2⋅alto\\cdot ancho + 2⋅ancho\\cdot largo$"
      ],
      "metadata": {
        "id": "ddXRJdu6tqqp"
      }
    },
    {
      "cell_type": "code",
      "source": [
        "alto = float(input(\"ingrese el alto: \"))\n",
        "largo = float(input(\"ingrese el largo: \"))\n",
        "ancho = float(input(\"ingrese el ancho: \"))\n",
        "\n",
        "volumen = alto * largo * ancho\n",
        "area = 2 * alto * largo + 2 * alto * ancho + 2 * ancho * largo\n",
        "\n",
        "print(\"el volumen es: \", round(volumen, 2))\n",
        "print(\"el area es: \", round(area, 2))"
      ],
      "metadata": {
        "colab": {
          "base_uri": "https://localhost:8080/"
        },
        "id": "MRzD5bUUu5Pb",
        "outputId": "23dedaeb-357b-463b-e085-810f30458e00"
      },
      "execution_count": null,
      "outputs": [
        {
          "output_type": "stream",
          "name": "stdout",
          "text": [
            "ingrese el alto: 3\n",
            "ingrese el largo: 2\n",
            "ingrese el ancho: 2\n",
            "el volumen es:  12.0\n",
            "el area es:  32.0\n"
          ]
        }
      ]
    },
    {
      "cell_type": "markdown",
      "source": [
        "4) La siguiente fórmula proporciona el enesimo termino $u$ de una progresion aritmetica: $u=a +(n-1)r$ donde $a$ es el primer término, n es la cantidad de términos y r es la razón entre dos terminos dos términos consecutivos. Calcular el valor de $r$ dados $u,a, n$\n",
        "\n",
        "---\n",
        "Es claro que $r = \\frac{u-a}{n-1}$"
      ],
      "metadata": {
        "id": "pAaPLwxqTA2D"
      }
    },
    {
      "cell_type": "code",
      "source": [
        "enesimo_u = float(input(\"ingrese el enesimo termino: \"))\n",
        "primero_a = float(input(\"ingrese el primer termino: \"))\n",
        "cantidad_n = float(input(\"ingrese la cantidad de terminos: \"))\n",
        "\n",
        "razon = (enesimo_u - primero_a) / (cantidad_n - 1)\n",
        "\n",
        "print(\"la razon es: \", round(razon, 2))"
      ],
      "metadata": {
        "colab": {
          "base_uri": "https://localhost:8080/"
        },
        "id": "0xoA6mAAS0CH",
        "outputId": "e60b12c2-c291-4839-99fc-b9ff2368a4ad"
      },
      "execution_count": null,
      "outputs": [
        {
          "output_type": "stream",
          "name": "stdout",
          "text": [
            "ingrese el enesimo termino: 8\n",
            "ingrese el primer termino: 1\n",
            "ingrese la cantidad de terminos: 5\n",
            "la razon es:  1.75\n"
          ]
        }
      ]
    },
    {
      "cell_type": "markdown",
      "source": [
        "6) El examen de una materia es el 70% de la nota total. Las lecciones constituyen el 20% y las tareas el 10% de la nota total. Ingrese como datos el examen calificado sobre 100 puntos, la nota de una leccion calificada sobre 10 puntos y la nota de tres tareascada una sobre 10 puntos. Calcule la calificacion sobre 100 puntos.\n",
        "\n",
        "---\n",
        "Para este caso llevemos todas las notas a 100, es decir la de las tareas y leccion. Esto se realiza multiplicando por 10 las notas ingresadas"
      ],
      "metadata": {
        "id": "l_mHX1-8U3FC"
      }
    },
    {
      "cell_type": "code",
      "source": [
        "examen = float(input(\"ingrese la nota del examen: \"))\n",
        "leccion = float(input(\"ingrese la nota de la leccion: \"))\n",
        "tarea1 = float(input(\"ingrese la nota de la tarea 1: \"))\n",
        "tarea2 = float(input(\"ingrese la nota de la tarea 2: \"))\n",
        "tarea3 = float(input(\"ingrese la nota de la tarea 3: \"))\n",
        "\n",
        "Calificacion_total = examen * 0.7 + (leccion*10)*0.2 + (tarea1*10 + tarea2*10 + tarea3*10)*0.1\n",
        "\n",
        "print(\"la calificacion total es: \", round(Calificacion_total, 2))"
      ],
      "metadata": {
        "colab": {
          "base_uri": "https://localhost:8080/"
        },
        "id": "yt8GYmCXU2wN",
        "outputId": "b2a95215-3a8f-4ec7-c1ae-ef67533b40e1"
      },
      "execution_count": null,
      "outputs": [
        {
          "output_type": "stream",
          "name": "stdout",
          "text": [
            "ingrese la nota del examen: 80\n",
            "ingrese la nota de la leccion: 4\n",
            "ingrese la nota de la tarea 1: 5\n",
            "ingrese la nota de la tarea 2: 5\n",
            "ingrese la nota de la tarea 3: 2\n",
            "la calificacion total es:  76.0\n"
          ]
        }
      ]
    },
    {
      "cell_type": "markdown",
      "source": [
        "7) Un modelo de crecimiento poblacional está dado por: $n = 5t + 2e^{0.1t}$, donde $n$ es el numero de habitantes, $t$ es el tiempo en años. Se desea conocer el numero de habitantes que habrian en los años 5, 10 y 20. Obtenga esos resultados ejecutando tres veces el programa"
      ],
      "metadata": {
        "id": "zfRZHI6RSewN"
      }
    },
    {
      "cell_type": "code",
      "source": [
        "from math import exp #importamos la funcion expnencial de la libreria math\n",
        "tiempo = [5, 10, 20]\n",
        "for t in tiempo:\n",
        "    n = 5*t + 2*exp(0.1)*t\n",
        "    print(f\"numero de habitantes en {t} años: {round(n,2)}\")"
      ],
      "metadata": {
        "colab": {
          "base_uri": "https://localhost:8080/"
        },
        "id": "TKUbpux1SLJG",
        "outputId": "036fbfbc-038b-4521-de20-8996b84a198d"
      },
      "execution_count": null,
      "outputs": [
        {
          "output_type": "stream",
          "name": "stdout",
          "text": [
            "numero de habitantes en 5 años: 36.05\n",
            "numero de habitantes en 10 años: 72.1\n",
            "numero de habitantes en 20 años: 144.21\n"
          ]
        }
      ]
    },
    {
      "cell_type": "markdown",
      "source": [
        "8) Un ingeniero desea tener una cantidad de dolares acumulada en su cuenta de ahorros para su retiro luego de una cantidad de años. Para este objetivo planea depositar un valor mensualmente. Suponga que el banco acumula el capital mensualmente mediante la formula:\n",
        "\n",
        "$$A = P\\Big[\\dfrac{(1+x)^n - 1}{x}\\Big]$$\n",
        "\n",
        "Donde $A =$ valor acumulado\n",
        "\n",
        "$P=$ Valor de cada deposito mensual\n",
        "\n",
        "$n=$ Cantidad depositos mensuales\n",
        "\n",
        "$x= $ Tasa de interes mensual\n",
        "\n",
        "Calcule el valr acumulado ingresado como datos los valores de $P, n , x$"
      ],
      "metadata": {
        "id": "vJMYhKzhVF4j"
      }
    },
    {
      "cell_type": "code",
      "source": [
        "deposito = float(input(\"ingrese el valor de cada deposito: \"))\n",
        "cantidad_depositos = float(input(\"ingrese la cantidad de depositos: \"))\n",
        "tasa_interes = float(input(\"ingrese la tasa de interes: \"))\n",
        "\n",
        "tasa_interes = tasa_interes / 100\n",
        "\n",
        "valor_acumulado = deposito * ((1 + tasa_interes)**(cantidad_depositos) - 1) / tasa_interes\n",
        "print(\"el valor acumulado es: \", round(valor_acumulado, 2))"
      ],
      "metadata": {
        "colab": {
          "base_uri": "https://localhost:8080/"
        },
        "id": "9lmVR16CXacg",
        "outputId": "187e913e-0430-468e-8eb3-8a0639eb105f"
      },
      "execution_count": null,
      "outputs": [
        {
          "output_type": "stream",
          "name": "stdout",
          "text": [
            "ingrese el valor de cada deposito: 30000\n",
            "ingrese la cantidad de depositos: 5\n",
            "ingrese la tasa de interes: 0.2\n",
            "el valor acumulado es:  150601.2\n"
          ]
        }
      ]
    },
    {
      "cell_type": "markdown",
      "source": [
        "9) escriba un programa que lea la abscisa y ordenada de dos puntos P y Q en el plano. Estos puntos con el origen (0,0) conforman un triángulo. Calcule el área del triangulo.\n",
        "\n",
        "---\n",
        "Formula de heron:\n",
        "\n",
        "  area = $\\sqrt{s(s-x)(s-y)(s-z)}$  \n",
        "  \n",
        "  donde $s =\\dfrac{x+y+z}{2}$\n",
        "\n",
        "  $x, y, z$ son los tres lados del triángulo"
      ],
      "metadata": {
        "id": "mQyGekBuZPb4"
      }
    },
    {
      "cell_type": "code",
      "source": [
        "from math import sqrt\n",
        "p_x = float(input(\"ingrese la abscisa del punto p \"))\n",
        "p_y = float(input(\"ingrese la ordenada del punto p \"))\n",
        "q_x = float(input(\"ingrese la abscisa del punto q \"))\n",
        "q_y = float(input(\"ingrese la ordenada del punto q \"))\n",
        "\n",
        "x = sqrt( (p_x - q_x)**2 + (p_y - q_y)**2 )\n",
        "y = sqrt( (p_x )**2 + (p_y )**2 )\n",
        "z = sqrt( (q_x )**2 + (q_y )**2 )\n",
        "\n",
        "s = (x+y+z)/2\n",
        "area = (s*(s-x)*(s-y)*(s-z))**0.5\n",
        "\n",
        "print(\"el area del triangulo es: \", round(area, 2))"
      ],
      "metadata": {
        "colab": {
          "base_uri": "https://localhost:8080/"
        },
        "id": "I3VTMBEOXuB5",
        "outputId": "6a56e4b1-5e30-49ab-9211-906798961837"
      },
      "execution_count": null,
      "outputs": [
        {
          "output_type": "stream",
          "name": "stdout",
          "text": [
            "ingrese la abscisa del punto p 4\n",
            "ingrese la ordenada del punto p 0\n",
            "ingrese la abscisa del punto q 4\n",
            "ingrese la ordenada del punto q 4\n",
            "el area del triangulo es:  8.0\n"
          ]
        }
      ]
    }
  ]
}