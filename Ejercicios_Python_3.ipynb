{
  "nbformat": 4,
  "nbformat_minor": 0,
  "metadata": {
    "colab": {
      "provenance": [],
      "authorship_tag": "ABX9TyOJUAMlwLtP9EczAFd+1O0U",
      "include_colab_link": true
    },
    "kernelspec": {
      "name": "python3",
      "display_name": "Python 3"
    },
    "language_info": {
      "name": "python"
    }
  },
  "cells": [
    {
      "cell_type": "markdown",
      "metadata": {
        "id": "view-in-github",
        "colab_type": "text"
      },
      "source": [
        "<a href=\"https://colab.research.google.com/github/Mvct-08/Ejercicios_Python/blob/main/Ejercicios_Python_3.ipynb\" target=\"_parent\"><img src=\"https://colab.research.google.com/assets/colab-badge.svg\" alt=\"Open In Colab\"/></a>"
      ]
    },
    {
      "cell_type": "markdown",
      "source": [
        "## Resolución de problemas usando python\n",
        "### Libro: Python programación: ESPOL\n",
        "### Autor: Luis Rodriguez Ojeda"
      ],
      "metadata": {
        "id": "EmZwJwO7nOui"
      }
    },
    {
      "cell_type": "markdown",
      "source": [
        "## (5.8.5)  pg 94\n",
        "\n",
        "## Ejercicios de programacion con desiciones\n",
        "\n",
        "Para cada ejercicios, escriba y pruebe un programa."
      ],
      "metadata": {
        "id": "2L6iK__RnsYR"
      }
    },
    {
      "cell_type": "markdown",
      "source": [
        "2) Dado el radio y la altura de un cilindro, si la altura es mayor que el radio calcule y muestre el valor del volumen, en caso contrario muestre un mensaje de error"
      ],
      "metadata": {
        "id": "cic7Ec-Mr38_"
      }
    },
    {
      "cell_type": "code",
      "source": [
        "altura = float(input(\"Ingrese la altura del cilindro: \"))\n",
        "radio = float(input(\"Ingrese el radio del cilindro: \"))\n",
        "PI = 3.1415\n",
        "\n",
        "if altura > radio:\n",
        "  volumen = PI*radio**2*altura\n",
        "  print(\"El volumen del cilindro es: \", volumen)\n",
        "else:\n",
        "  print(\"Error: debe indicar una altura mayor que el radio\")"
      ],
      "metadata": {
        "id": "g9JPZwm2zHjW",
        "colab": {
          "base_uri": "https://localhost:8080/"
        },
        "outputId": "7db752d8-0e5b-4de1-e681-031fd010fefc"
      },
      "execution_count": null,
      "outputs": [
        {
          "output_type": "stream",
          "name": "stdout",
          "text": [
            "Ingrese la altura del cilindro: 7\n",
            "Ingrese el radio del cilindro: 5\n",
            "El volumen del cilindro es:  549.7625\n"
          ]
        }
      ]
    },
    {
      "cell_type": "markdown",
      "source": [
        "3) Dadas las dimensiones de un bloque rectangular, calcule las diagonales de las tres caras diferentes. Muestra el valor de la mayor diagonal"
      ],
      "metadata": {
        "id": "KyIdXUr3qlCG"
      }
    },
    {
      "cell_type": "code",
      "source": [
        "from os.path import dirname  #debes estudiar mas de que se trata este modulo\n",
        "largo = float(input(\"Ingrese el largo del bloque: \"))\n",
        "ancho = float(input(\"Ingrese el ancho del bloque: \"))\n",
        "alto = float(input(\"Ingrese el alto del bloque: \"))\n",
        "\n",
        "diagonal1 = (largo**2 + ancho**2)**0.5\n",
        "diagonal2 = (largo**2 + alto**2)**0.5\n",
        "diagonal3 = (ancho**2 + alto**2)**0.5\n",
        "\n",
        "if diagonal1 >= diagonal2 and diagonal1 >= diagonal3:\n",
        "  print(\"La mayor diagonal es: \", round(diagonal1,2))\n",
        "elif diagonal2 >= diagonal1 and diagonal2 >= diagonal3:\n",
        "  print(\"La mayor diagonal es: \", round(diagonal2,2))\n",
        "else:\n",
        "  print(\"La mayor diagonal es: \", round(diagonal3, 2))\n",
        "\n"
      ],
      "metadata": {
        "id": "jOgySS0GqjRp",
        "colab": {
          "base_uri": "https://localhost:8080/"
        },
        "outputId": "7d12c416-adc8-4fe7-9c27-a9230b10a042"
      },
      "execution_count": null,
      "outputs": [
        {
          "output_type": "stream",
          "name": "stdout",
          "text": [
            "Ingrese el largo del bloque: 5\n",
            "Ingrese el ancho del bloque: 4\n",
            "Ingrese el alto del bloque: 9\n",
            "La mayor diagonal es:  10.3\n"
          ]
        }
      ]
    },
    {
      "cell_type": "markdown",
      "source": [
        "3) Lea un numero de dos cifras. Determine si la suma de ambos dígitos es un numero par o impar. Muestre el mensaje."
      ],
      "metadata": {
        "id": "pPhkE7Ogxawr"
      }
    },
    {
      "cell_type": "code",
      "source": [
        "numero = int(input(\"Ingrese un numero de dos cifras: \"))\n",
        "\n",
        "if numero >= 10 and numero <= 99:\n",
        "  decenas = numero // 10\n",
        "  unidades = numero % 10\n",
        "else:\n",
        "  print(\"Error: debe ingresar un numero de dos cifras\")\n",
        "\n",
        "suma = decenas + unidades\n",
        "\n",
        "if suma % 2 == 0:\n",
        "  print(\"La suma de los digitos es par\")\n",
        "else:\n",
        "  print(\"La suma de los digitos es impar\")\n",
        "\n",
        "\n"
      ],
      "metadata": {
        "id": "I3VTMBEOXuB5",
        "colab": {
          "base_uri": "https://localhost:8080/"
        },
        "outputId": "d4ce0ffc-0c04-4463-d897-37097dc40bd1"
      },
      "execution_count": 11,
      "outputs": [
        {
          "output_type": "stream",
          "name": "stdout",
          "text": [
            "Ingrese un numero de dos cifras: 37\n",
            "La suma de los digitos es par\n"
          ]
        }
      ]
    },
    {
      "cell_type": "markdown",
      "source": [
        "4) Lea un numero. Determine si es entero y multiplo de 7"
      ],
      "metadata": {
        "id": "xf-6PuhdFrrz"
      }
    },
    {
      "cell_type": "code",
      "source": [
        "numero = float(input(\"Ingrese un numero: \"))\n",
        "\n",
        "if numero == int(numero):\n",
        "  if numero % 7 == 0:\n",
        "    print(\"El numero es entero y multiplo de 7\")\n",
        "\n",
        "  else:\n",
        "    print(\"El numero es entero y no es multiplo de 7\")\n",
        "else:\n",
        "  print(\"El numero no es entero\")\n",
        "\n",
        "\n",
        "\n"
      ],
      "metadata": {
        "id": "9N3R0SSLxaHn",
        "colab": {
          "base_uri": "https://localhost:8080/"
        },
        "outputId": "448b94f1-dda7-4ece-cbf4-3c244227024c"
      },
      "execution_count": 14,
      "outputs": [
        {
          "output_type": "stream",
          "name": "stdout",
          "text": [
            "Ingrese un numero: 1.32\n",
            "El numero no es entero\n"
          ]
        }
      ]
    }
  ]
}